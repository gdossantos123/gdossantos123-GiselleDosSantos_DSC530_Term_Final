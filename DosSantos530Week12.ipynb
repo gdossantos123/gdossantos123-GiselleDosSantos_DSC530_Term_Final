{
 "cells": [
  {
   "cell_type": "code",
   "execution_count": null,
   "id": "d838b709-d4ff-4e3f-8af3-a31004b639ff",
   "metadata": {},
   "outputs": [],
   "source": [
    "#This section imports all of the needed libraries \n",
    "import pandas as pd\n",
    "import numpy as np\n",
    "import matplotlib.pyplot as plt\n",
    "import statsmodels.api as sm\n",
    "from scipy.stats import pearsonr, norm, ttest_ind"
   ]
  },
  {
   "cell_type": "code",
   "execution_count": null,
   "id": "6969bc3a-bbdd-48df-9827-4cd052f0e545",
   "metadata": {},
   "outputs": [],
   "source": [
    "#This section references the the files path of my data set\n",
    "file_path = 'Aviation _Market_Canada.csv'\n",
    "data = pd.read_csv(file_path)"
   ]
  },
  {
   "cell_type": "code",
   "execution_count": null,
   "id": "fcdb416f-d884-4e05-b8fb-81518771a270",
   "metadata": {},
   "outputs": [],
   "source": [
    "data.rename(columns=lambda x: x.strip(), inplace=True)"
   ]
  },
  {
   "cell_type": "code",
   "execution_count": null,
   "id": "aa29361d-401b-456d-9985-5c83295ff85d",
   "metadata": {},
   "outputs": [],
   "source": [
    "# Read the CSV file \n",
    "df = pd.read_csv(r'Aviation _Market_Canada.csv')\n",
    "print(df.head())"
   ]
  },
  {
   "cell_type": "code",
   "execution_count": null,
   "id": "d30ee569-928d-47b8-b8f6-5003550dded2",
   "metadata": {},
   "outputs": [],
   "source": [
    "print(data.columns)"
   ]
  },
  {
   "cell_type": "markdown",
   "id": "70b8025d-3ff6-45d9-bd42-e058efbd1a52",
   "metadata": {},
   "source": [
    "Histogram and Desctiptive Analysis:"
   ]
  },
  {
   "cell_type": "code",
   "execution_count": null,
   "id": "912209df-e0ee-4752-b85a-6620f115bd4a",
   "metadata": {},
   "outputs": [],
   "source": [
    "#This section plots the histograms considering the 5 variables. \n",
    "def plot_histogram_and_descriptive_stats(data, column_name):\n",
    "    plt.figure(figsize=(8, 5))\n",
    "    plt.hist(data[column_name].dropna(), bins=15, edgecolor='black')\n",
    "    plt.title(f'Histogram of {column_name}')\n",
    "    plt.xlabel(column_name)\n",
    "    plt.ylabel('Frequency')\n",
    "    plt.show()\n",
    "#This section calculates the descriptive statistical values for each variable\n",
    "    mean_value = data[column_name].mean()\n",
    "    mode_value = data[column_name].mode()[0] if not data[column_name].mode().empty else None\n",
    "    std_dev = data[column_name].std()\n",
    "    min_value = data[column_name].min()\n",
    "    max_value = data[column_name].max()\n",
    "\n",
    "    return {\n",
    "        \"Mean\": mean_value,\n",
    "        \"Mode\": mode_value,\n",
    "        \"Standard Deviation\": std_dev,\n",
    "        \"Min\": min_value,\n",
    "        \"Max\": max_value,\n",
    "    }"
   ]
  },
  {
   "cell_type": "code",
   "execution_count": null,
   "id": "ed63e4f3-6378-40ee-8cab-5b2d2c3b4da8",
   "metadata": {},
   "outputs": [],
   "source": [
    "#This section creates the loop so that all of the variables are considered\n",
    "descriptive_stats = {}\n",
    "for column in [\"Month\", \"Operating Airline   Capacity\", \"DepCount\", \"Distance (km)\", \"Seats per Operation\"]:\n",
    "    descriptive_stats[column] = plot_histogram_and_descriptive_stats(data, column)"
   ]
  },
  {
   "cell_type": "markdown",
   "id": "14834225-a709-4093-9aea-12f9db4e1daa",
   "metadata": {},
   "source": [
    "Probability Mass Function"
   ]
  },
  {
   "cell_type": "code",
   "execution_count": null,
   "id": "8df0489d-19d8-4aee-b51c-84489dc45e9d",
   "metadata": {},
   "outputs": [],
   "source": [
    "# This section defines the high-load and low-load flights based on the median split of 'Seats per Operation'\n",
    "median_seats = data['Seats per Operation'].median()\n",
    "high_seats_flights = data[data['Seats per Operation'] > median_seats]\n",
    "low_seats_flights = data[data['Seats per Operation'] <= median_seats]"
   ]
  },
  {
   "cell_type": "code",
   "execution_count": null,
   "id": "abea15e0-96d1-40ac-a695-dbeff09a429c",
   "metadata": {},
   "outputs": [],
   "source": [
    "# This section will calculate PMF for high-seat and low-seat flights\n",
    "def calculate_pmf(data, column_name):\n",
    "    counts = data[column_name].value_counts(normalize=True).sort_index()\n",
    "    return counts\n",
    "pmf_high_seats = calculate_pmf(high_seats_flights, 'Seats per Operation')\n",
    "pmf_low_seats = calculate_pmf(low_seats_flights, 'Seats per Operation')"
   ]
  },
  {
   "cell_type": "code",
   "execution_count": null,
   "id": "45c831cb-14db-4d57-9717-283cd05e25da",
   "metadata": {},
   "outputs": [],
   "source": [
    "#This section plots the PMF graph\n",
    "plt.figure(figsize=(14, 6))\n",
    "plt.plot(pmf_high_seats.index, pmf_high_seats.values, label='High Seats Flights', marker='o', linestyle='-', alpha=0.7)\n",
    "plt.plot(pmf_low_seats.index, pmf_low_seats.values, label='Low Seats Flights', marker='o', linestyle='-', alpha=0.7)\n",
    "plt.title('PMF of Seats per Operation: High vs Low Seats Flights')\n",
    "plt.xlabel('Seats per Operation')\n",
    "plt.ylabel('Probability')\n",
    "plt.legend()\n",
    "plt.tight_layout()\n",
    "plt.show()"
   ]
  },
  {
   "cell_type": "markdown",
   "id": "ba27c1c8-c8fe-4f1b-8fdb-78ac4930f143",
   "metadata": {},
   "source": [
    "CDF Analysis:"
   ]
  },
  {
   "cell_type": "code",
   "execution_count": null,
   "id": "3a1dd1ea-39bd-44af-a370-927160c3d861",
   "metadata": {},
   "outputs": [],
   "source": [
    "#This section will calculate and plot the CDF for Seats per Operation\n",
    "def calculate_cdf(data, column_name):\n",
    "    sorted_data = np.sort(data[column_name].dropna())\n",
    "    cumulative_prob = np.arange(1, len(sorted_data) + 1) / len(sorted_data)\n",
    "    return sorted_data, cumulative_prob\n",
    "sorted_seats, cumulative_prob_seats = calculate_cdf(data, 'Seats per Operation')"
   ]
  },
  {
   "cell_type": "code",
   "execution_count": null,
   "id": "6eba3519-7c85-48ef-97e1-752d1575fe5a",
   "metadata": {},
   "outputs": [],
   "source": [
    "plt.figure(figsize=(10, 6))\n",
    "plt.plot(sorted_seats, cumulative_prob_seats, marker='.', linestyle='-', color='b')\n",
    "plt.title('CDF of Seats per Operation')\n",
    "plt.xlabel('Seats per Operation')\n",
    "plt.ylabel('Cumulative Probability')\n",
    "plt.grid(True)\n",
    "plt.tight_layout()\n",
    "plt.show()"
   ]
  },
  {
   "cell_type": "markdown",
   "id": "90dba69c-8069-40ff-9bd8-78a0a8a54d67",
   "metadata": {},
   "source": [
    "Analytical Distribution Fit"
   ]
  },
  {
   "cell_type": "code",
   "execution_count": null,
   "id": "e3a62929-7a20-48d6-b053-f35314ffb61a",
   "metadata": {},
   "outputs": [],
   "source": [
    "#This section will fit a normal distribution to the Seats per Operation data and generate values for the normal distribution using the fitted parameters\n",
    "seats_data = data['Seats per Operation'].dropna()\n",
    "mu, sigma = norm.fit(seats_data)\n",
    "\n",
    "x_values = np.linspace(seats_data.min(), seats_data.max(), 100)\n",
    "fitted_pdf = norm.pdf(x_values, mu, sigma)"
   ]
  },
  {
   "cell_type": "code",
   "execution_count": null,
   "id": "1cc24330-ebca-4323-b5f3-288bcbc48dd2",
   "metadata": {},
   "outputs": [],
   "source": [
    "#This section plots the observed data from the dataset and the fitted distribution calculated above\n",
    "plt.figure(figsize=(10, 6))\n",
    "plt.hist(seats_data, bins=30, density=True, alpha=0.6, color='g', edgecolor='black', label='Observed Data')\n",
    "plt.plot(x_values, fitted_pdf, 'r--', linewidth=2, label='Fitted Normal Distribution')\n",
    "plt.title('Seats per Operation - Fitted Normal Distribution')\n",
    "plt.xlabel('Seats per Operation')\n",
    "plt.ylabel('Density')\n",
    "plt.legend()\n",
    "plt.grid(True)\n",
    "plt.tight_layout()\n",
    "plt.show()"
   ]
  },
  {
   "cell_type": "markdown",
   "id": "5da01f9e-3bc8-4dc8-a391-cdcd6e9055c5",
   "metadata": {},
   "source": [
    "Scatterplot and Correlation Analysis"
   ]
  },
  {
   "cell_type": "code",
   "execution_count": null,
   "id": "36f5c8fd-a3da-4a15-974e-989902a37d2f",
   "metadata": {},
   "outputs": [],
   "source": [
    "plt.figure(figsize=(10, 6))\n",
    "plt.scatter(data['DepCount'], data['Seats per Operation'], alpha=0.5, edgecolor='k')\n",
    "plt.title('Seats per Operation vs DepCount')\n",
    "plt.xlabel('DepCount (Number of Departures)')\n",
    "plt.ylabel('Seats per Operation')\n",
    "plt.grid(True)\n",
    "plt.tight_layout()\n",
    "plt.show()"
   ]
  },
  {
   "cell_type": "code",
   "execution_count": null,
   "id": "cc0ad8fe-4112-40b2-a267-8d4dce3ae5e8",
   "metadata": {},
   "outputs": [],
   "source": [
    "seats_depcount_corr, _ = pearsonr(data['DepCount'].dropna(), data['Seats per Operation'].dropna())\n",
    "print(f\"Pearson correlation between DepCount and Seats per Operation: {seats_depcount_corr}\")"
   ]
  },
  {
   "cell_type": "code",
   "execution_count": null,
   "id": "6a995749-7ab9-47f5-af39-5c4e82455c49",
   "metadata": {},
   "outputs": [],
   "source": [
    "filtered_data = data[['Distance (km)', 'Seats per Operation']].dropna()"
   ]
  },
  {
   "cell_type": "code",
   "execution_count": null,
   "id": "9c69c8cb-e687-47b8-a115-e9842c38dd09",
   "metadata": {},
   "outputs": [],
   "source": [
    "plt.figure(figsize=(10, 6))\n",
    "plt.scatter(data['Distance (km)'], data['Seats per Operation'], alpha=0.5, edgecolor='k')\n",
    "plt.title('Seats per Operation vs Distance')\n",
    "plt.xlabel('Distance (km)')\n",
    "plt.ylabel('Seats per Operation')\n",
    "plt.grid(True)\n",
    "plt.tight_layout()\n",
    "plt.show()"
   ]
  },
  {
   "cell_type": "code",
   "execution_count": null,
   "id": "e265738f-0ab1-4cb3-85cd-3f3827c39e92",
   "metadata": {},
   "outputs": [],
   "source": [
    "seats_distance_corr, _ = pearsonr(filtered_data['Distance (km)'], filtered_data['Seats per Operation'])\n",
    "print(f\"Pearson correlation between Distance and Seats per Operation: {seats_distance_corr}\")"
   ]
  },
  {
   "cell_type": "markdown",
   "id": "3e0fe14a-49c1-4221-acb6-e447eeea0bf4",
   "metadata": {},
   "source": [
    "Hypothesis Testing "
   ]
  },
  {
   "cell_type": "code",
   "execution_count": null,
   "id": "4560389a-5331-46b0-847e-0d86edf55648",
   "metadata": {},
   "outputs": [],
   "source": [
    "#This section tests the hypothesis that mean seats per operation differ significantly for flights with high departure counts vs flights with low departure counts \n",
    "high_dep_flights = data[data['DepCount'] > data['DepCount'].median()]\n",
    "low_dep_flights = data[data['DepCount'] <= data['DepCount'].median()]\n",
    "t_stat, p_value = ttest_ind(high_dep_flights['Seats per Operation'].dropna(), low_dep_flights['Seats per Operation'].dropna())\n",
    "print(f\"Hypothesis Test - T-statistic: {t_stat}, P-value: {p_value}\")"
   ]
  },
  {
   "cell_type": "raw",
   "id": "2957dd98-3645-4641-968f-3767cbad0a3c",
   "metadata": {},
   "source": [
    "Regression Analysis"
   ]
  },
  {
   "cell_type": "code",
   "execution_count": null,
   "id": "227ec872-bdfc-4b91-acb9-e746bf90f686",
   "metadata": {},
   "outputs": [],
   "source": [
    "X = data['DepCount'].dropna()\n",
    "y = data['Seats per Operation'].dropna()\n",
    "\n",
    "#This is the constant for the intercept\n",
    "X = sm.add_constant(X)\n",
    "\n",
    "model = sm.OLS(y, X).fit()\n",
    "print(model.summary())"
   ]
  }
 ],
 "metadata": {
  "kernelspec": {
   "display_name": "Python 3 (ipykernel)",
   "language": "python",
   "name": "python3"
  },
  "language_info": {
   "codemirror_mode": {
    "name": "ipython",
    "version": 3
   },
   "file_extension": ".py",
   "mimetype": "text/x-python",
   "name": "python",
   "nbconvert_exporter": "python",
   "pygments_lexer": "ipython3",
   "version": "3.12.4"
  }
 },
 "nbformat": 4,
 "nbformat_minor": 5
}
